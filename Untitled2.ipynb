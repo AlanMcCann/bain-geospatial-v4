{
 "cells": [
  {
   "cell_type": "code",
   "execution_count": 1,
   "id": "c5cc58cb",
   "metadata": {},
   "outputs": [],
   "source": [
    "import pickle"
   ]
  },
  {
   "cell_type": "code",
   "execution_count": 7,
   "id": "3577bf15",
   "metadata": {},
   "outputs": [],
   "source": [
    "with open('/Users/alanmccann/Dropbox/bain/nickname_directory.pickle','rb') as f:\n",
    "     df = pickle.load(f)"
   ]
  },
  {
   "cell_type": "code",
   "execution_count": 8,
   "id": "e434a7b1",
   "metadata": {},
   "outputs": [
    {
     "data": {
      "text/html": [
       "<div>\n",
       "<style scoped>\n",
       "    .dataframe tbody tr th:only-of-type {\n",
       "        vertical-align: middle;\n",
       "    }\n",
       "\n",
       "    .dataframe tbody tr th {\n",
       "        vertical-align: top;\n",
       "    }\n",
       "\n",
       "    .dataframe thead th {\n",
       "        text-align: right;\n",
       "    }\n",
       "</style>\n",
       "<table border=\"1\" class=\"dataframe\">\n",
       "  <thead>\n",
       "    <tr style=\"text-align: right;\">\n",
       "      <th></th>\n",
       "      <th>nickname</th>\n",
       "      <th>names</th>\n",
       "    </tr>\n",
       "  </thead>\n",
       "  <tbody>\n",
       "    <tr>\n",
       "      <th>0</th>\n",
       "      <td>AALIYAH</td>\n",
       "      <td>[ALEXANDRA, ALEXA, ALLYSON, ALEX, ALICIA, ALEJ...</td>\n",
       "    </tr>\n",
       "    <tr>\n",
       "      <th>1</th>\n",
       "      <td>AARON</td>\n",
       "      <td>[ARON, SHARRON, AARON]</td>\n",
       "    </tr>\n",
       "    <tr>\n",
       "      <th>2</th>\n",
       "      <td>ABBEY</td>\n",
       "      <td>[ABBY, ABIGAIL, ABEL, ABBIE, ABRAHAM, ABBEY]</td>\n",
       "    </tr>\n",
       "    <tr>\n",
       "      <th>3</th>\n",
       "      <td>ABBIE</td>\n",
       "      <td>[ABBY, ABIGAIL, ABBEY, ABEL, ABRAHAM, ABBIE]</td>\n",
       "    </tr>\n",
       "    <tr>\n",
       "      <th>4</th>\n",
       "      <td>ABBY</td>\n",
       "      <td>[ABIGAIL, ABBEY, ABEL, ABBIE, ABRAHAM, ABBY]</td>\n",
       "    </tr>\n",
       "    <tr>\n",
       "      <th>...</th>\n",
       "      <td>...</td>\n",
       "      <td>...</td>\n",
       "    </tr>\n",
       "    <tr>\n",
       "      <th>1371</th>\n",
       "      <td>ZANDER</td>\n",
       "      <td>[ALEXANDER, ALEXANDRA, XANDER, ALEXANDRIA, ZAN...</td>\n",
       "    </tr>\n",
       "    <tr>\n",
       "      <th>1372</th>\n",
       "      <td>ZANE</td>\n",
       "      <td>[ALEXANDRA, XANDER, SEAN, SONNY, SUSAN, ALEXAN...</td>\n",
       "    </tr>\n",
       "    <tr>\n",
       "      <th>1373</th>\n",
       "      <td>ZION</td>\n",
       "      <td>[SIENNA, SONIA, SONNY, ZANE, SEAN, SONYA, ZION]</td>\n",
       "    </tr>\n",
       "    <tr>\n",
       "      <th>1374</th>\n",
       "      <td>ZOE</td>\n",
       "      <td>[ZOEY, ZOE]</td>\n",
       "    </tr>\n",
       "    <tr>\n",
       "      <th>1375</th>\n",
       "      <td>ZOEY</td>\n",
       "      <td>[ZOE, ALONZO, LORENZO, ZOEY]</td>\n",
       "    </tr>\n",
       "  </tbody>\n",
       "</table>\n",
       "<p>1376 rows × 2 columns</p>\n",
       "</div>"
      ],
      "text/plain": [
       "     nickname                                              names\n",
       "0     AALIYAH  [ALEXANDRA, ALEXA, ALLYSON, ALEX, ALICIA, ALEJ...\n",
       "1       AARON                             [ARON, SHARRON, AARON]\n",
       "2       ABBEY       [ABBY, ABIGAIL, ABEL, ABBIE, ABRAHAM, ABBEY]\n",
       "3       ABBIE       [ABBY, ABIGAIL, ABBEY, ABEL, ABRAHAM, ABBIE]\n",
       "4        ABBY       [ABIGAIL, ABBEY, ABEL, ABBIE, ABRAHAM, ABBY]\n",
       "...       ...                                                ...\n",
       "1371   ZANDER  [ALEXANDER, ALEXANDRA, XANDER, ALEXANDRIA, ZAN...\n",
       "1372     ZANE  [ALEXANDRA, XANDER, SEAN, SONNY, SUSAN, ALEXAN...\n",
       "1373     ZION    [SIENNA, SONIA, SONNY, ZANE, SEAN, SONYA, ZION]\n",
       "1374      ZOE                                        [ZOEY, ZOE]\n",
       "1375     ZOEY                       [ZOE, ALONZO, LORENZO, ZOEY]\n",
       "\n",
       "[1376 rows x 2 columns]"
      ]
     },
     "execution_count": 8,
     "metadata": {},
     "output_type": "execute_result"
    }
   ],
   "source": [
    "df"
   ]
  },
  {
   "cell_type": "code",
   "execution_count": 11,
   "id": "5b0cfc93",
   "metadata": {},
   "outputs": [],
   "source": [
    "df.to_csv(\"/Users/alanmccann/Dropbox/Dynata/nicknames.csv\",index=False,sep=\"|\")"
   ]
  },
  {
   "cell_type": "code",
   "execution_count": null,
   "id": "875fabb9",
   "metadata": {},
   "outputs": [],
   "source": []
  }
 ],
 "metadata": {
  "kernelspec": {
   "display_name": "Python 3 (ipykernel)",
   "language": "python",
   "name": "python3"
  },
  "language_info": {
   "codemirror_mode": {
    "name": "ipython",
    "version": 3
   },
   "file_extension": ".py",
   "mimetype": "text/x-python",
   "name": "python",
   "nbconvert_exporter": "python",
   "pygments_lexer": "ipython3",
   "version": "3.9.7"
  }
 },
 "nbformat": 4,
 "nbformat_minor": 5
}
