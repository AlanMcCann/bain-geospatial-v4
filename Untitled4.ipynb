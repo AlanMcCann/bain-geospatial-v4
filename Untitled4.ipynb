{
 "cells": [
  {
   "cell_type": "code",
   "execution_count": 8,
   "id": "d2221896",
   "metadata": {},
   "outputs": [],
   "source": [
    "body = {'id': 3778, 'parent_id': 0, 'status': 'processing', 'currency': 'USD', 'version': '6.5.1', 'prices_include_tax': False, 'date_created': '2022-06-13T13:02:03', 'date_modified': '2022-06-13T13:02:08', 'discount_total': '0.00', 'discount_tax': '0.00', 'shipping_total': '15.00', 'shipping_tax': '0.00', 'cart_tax': '6.54', 'total': '130.54', 'total_tax': '6.54', 'customer_id': 2, 'order_key': 'wc_order_odRFDzZf9vMEc', 'billing': {'first_name': 'Alan', 'last_name': 'McCann', 'company': '', 'address_1': '1256 Leedom Road', 'address_2': '', 'city': 'Havertown', 'state': 'PA', 'postcode': '19083', 'country': 'US', 'email': 'alan+db@imccann.com', 'phone': '9496375327'}, 'shipping': {'first_name': 'Alan', 'last_name': 'McCann', 'company': '', 'address_1': '1256 Leedom Road', 'address_2': '', 'city': 'Havertown', 'state': 'PA', 'postcode': '19083', 'country': 'US', 'phone': '9496375327'}, 'payment_method': 'stripe', 'payment_method_title': 'Credit Card (Stripe)', 'transaction_id': 'ch_3LACu9C73Lej680M0vNJ5uJw', 'customer_ip_address': '108.52.207.47', 'customer_user_agent': 'Mozilla/5.0 (Macintosh; Intel Mac OS X 10_15_7) AppleWebKit/537.36 (KHTML, like Gecko) Chrome/102.0.5005.61 Safari/537.36', 'created_via': 'checkout', 'customer_note': '', 'date_completed': None, 'date_paid': '2022-06-13T13:02:07', 'cart_hash': '5e0c838322f8e71b9df610b6d32ed8ea', 'number': '3778', 'meta_data': [{'id': 32318, 'key': 'is_vat_exempt', 'value': 'no'}, {'id': 32319, 'key': '_stripe_customer_id', 'value': 'cus_LpLIEzlMg1w0qp'}, {'id': 32320, 'key': '_stripe_source_id', 'value': 'src_1LACu6C73Lej680MrQGIRdfN'}, {'id': 32321, 'key': '_stripe_intent_id', 'value': 'pi_3LACu9C73Lej680M04QZTMP8'}, {'id': 32322, 'key': '_stripe_charge_captured', 'value': 'yes'}, {'id': 32323, 'key': '_stripe_fee', 'value': '4.09'}, {'id': 32324, 'key': '_stripe_net', 'value': '126.45'}, {'id': 32325, 'key': '_stripe_currency', 'value': 'USD'}, {'id': 32333, 'key': '_new_order_email_sent', 'value': 'true'}], 'line_items': [{'id': 3, 'name': 'OneDraw A1C Test System', 'product_id': 3617, 'variation_id': 0, 'quantity': 1, 'tax_class': '', 'subtotal': '109.00', 'subtotal_tax': '6.54', 'total': '109.00', 'total_tax': '6.54', 'taxes': [{'id': 39, 'total': '6.54', 'subtotal': '6.54'}], 'meta_data': [], 'sku': 'FD001', 'price': 109, 'parent_name': None}], 'tax_lines': [{'id': 5, 'rate_code': 'US-PA-PA STATE TAX-1', 'rate_id': 39, 'label': 'PA State Tax', 'compound': False, 'tax_total': '6.54', 'shipping_tax_total': '0.00', 'rate_percent': 6, 'meta_data': []}], 'shipping_lines': [{'id': 4, 'method_title': 'Flat rate', 'method_id': 'flat_rate', 'instance_id': '1', 'total': '15.00', 'total_tax': '0.00', 'taxes': [], 'meta_data': [{'id': 30, 'key': 'Items', 'value': 'OneDraw A1C Test System &times; 1', 'display_key': 'Items', 'display_value': 'OneDraw A1C Test System &times; 1'}]}], 'fee_lines': [], 'coupon_lines': [], 'refunds': [], 'payment_url': 'https://www.drawbridgehealth.com/checkout/order-pay/3778/?pay_for_order=true&key=wc_order_odRFDzZf9vMEc', 'date_created_gmt': '2022-06-13T13:02:03', 'date_modified_gmt': '2022-06-13T13:02:08', 'date_completed_gmt': None, 'date_paid_gmt': '2022-06-13T13:02:07', 'currency_symbol': '$', '_links': {'self': [{'href': 'https://www.drawbridgehealth.com/wp-json/wc/v3/orders/3778'}], 'collection': [{'href': 'https://www.drawbridgehealth.com/wp-json/wc/v3/orders'}], 'customer': [{'href': 'https://www.drawbridgehealth.com/wp-json/wc/v3/customers/2'}]}}\n"
   ]
  },
  {
   "cell_type": "code",
   "execution_count": 14,
   "id": "e04d82de",
   "metadata": {},
   "outputs": [
    {
     "data": {
      "text/plain": [
       "{'first_name': 'Alan',\n",
       " 'last_name': 'McCann',\n",
       " 'company': '',\n",
       " 'address_1': '1256 Leedom Road',\n",
       " 'address_2': '',\n",
       " 'city': 'Havertown',\n",
       " 'state': 'PA',\n",
       " 'postcode': '19083',\n",
       " 'country': 'US',\n",
       " 'phone': '9496375327'}"
      ]
     },
     "execution_count": 14,
     "metadata": {},
     "output_type": "execute_result"
    }
   ],
   "source": [
    "body['shipping']"
   ]
  },
  {
   "cell_type": "code",
   "execution_count": 17,
   "id": "ad00c0b6",
   "metadata": {},
   "outputs": [
    {
     "data": {
      "text/plain": [
       "[{'sku': 'FD001', 'quantity': 1}]"
      ]
     },
     "execution_count": 17,
     "metadata": {},
     "output_type": "execute_result"
    }
   ],
   "source": [
    "[{\"sku\": line_item[\"sku\"], \"quantity\": line_item[\"quantity\"]} for line_item in body['line_items']]"
   ]
  },
  {
   "cell_type": "code",
   "execution_count": 18,
   "id": "f7bd45fc",
   "metadata": {},
   "outputs": [
    {
     "data": {
      "text/plain": [
       "{'id': 3778,\n",
       " 'parent_id': 0,\n",
       " 'status': 'processing',\n",
       " 'currency': 'USD',\n",
       " 'version': '6.5.1',\n",
       " 'prices_include_tax': False,\n",
       " 'date_created': '2022-06-13T13:02:03',\n",
       " 'date_modified': '2022-06-13T13:02:08',\n",
       " 'discount_total': '0.00',\n",
       " 'discount_tax': '0.00',\n",
       " 'shipping_total': '15.00',\n",
       " 'shipping_tax': '0.00',\n",
       " 'cart_tax': '6.54',\n",
       " 'total': '130.54',\n",
       " 'total_tax': '6.54',\n",
       " 'customer_id': 2,\n",
       " 'order_key': 'wc_order_odRFDzZf9vMEc',\n",
       " 'billing': {'first_name': 'Alan',\n",
       "  'last_name': 'McCann',\n",
       "  'company': '',\n",
       "  'address_1': '1256 Leedom Road',\n",
       "  'address_2': '',\n",
       "  'city': 'Havertown',\n",
       "  'state': 'PA',\n",
       "  'postcode': '19083',\n",
       "  'country': 'US',\n",
       "  'email': 'alan+db@imccann.com',\n",
       "  'phone': '9496375327'},\n",
       " 'shipping': {'first_name': 'Alan',\n",
       "  'last_name': 'McCann',\n",
       "  'company': '',\n",
       "  'address_1': '1256 Leedom Road',\n",
       "  'address_2': '',\n",
       "  'city': 'Havertown',\n",
       "  'state': 'PA',\n",
       "  'postcode': '19083',\n",
       "  'country': 'US',\n",
       "  'phone': '9496375327'},\n",
       " 'payment_method': 'stripe',\n",
       " 'payment_method_title': 'Credit Card (Stripe)',\n",
       " 'transaction_id': 'ch_3LACu9C73Lej680M0vNJ5uJw',\n",
       " 'customer_ip_address': '108.52.207.47',\n",
       " 'customer_user_agent': 'Mozilla/5.0 (Macintosh; Intel Mac OS X 10_15_7) AppleWebKit/537.36 (KHTML, like Gecko) Chrome/102.0.5005.61 Safari/537.36',\n",
       " 'created_via': 'checkout',\n",
       " 'customer_note': '',\n",
       " 'date_completed': None,\n",
       " 'date_paid': '2022-06-13T13:02:07',\n",
       " 'cart_hash': '5e0c838322f8e71b9df610b6d32ed8ea',\n",
       " 'number': '3778',\n",
       " 'meta_data': [{'id': 32318, 'key': 'is_vat_exempt', 'value': 'no'},\n",
       "  {'id': 32319, 'key': '_stripe_customer_id', 'value': 'cus_LpLIEzlMg1w0qp'},\n",
       "  {'id': 32320,\n",
       "   'key': '_stripe_source_id',\n",
       "   'value': 'src_1LACu6C73Lej680MrQGIRdfN'},\n",
       "  {'id': 32321,\n",
       "   'key': '_stripe_intent_id',\n",
       "   'value': 'pi_3LACu9C73Lej680M04QZTMP8'},\n",
       "  {'id': 32322, 'key': '_stripe_charge_captured', 'value': 'yes'},\n",
       "  {'id': 32323, 'key': '_stripe_fee', 'value': '4.09'},\n",
       "  {'id': 32324, 'key': '_stripe_net', 'value': '126.45'},\n",
       "  {'id': 32325, 'key': '_stripe_currency', 'value': 'USD'},\n",
       "  {'id': 32333, 'key': '_new_order_email_sent', 'value': 'true'}],\n",
       " 'line_items': [{'id': 3,\n",
       "   'name': 'OneDraw A1C Test System',\n",
       "   'product_id': 3617,\n",
       "   'variation_id': 0,\n",
       "   'quantity': 1,\n",
       "   'tax_class': '',\n",
       "   'subtotal': '109.00',\n",
       "   'subtotal_tax': '6.54',\n",
       "   'total': '109.00',\n",
       "   'total_tax': '6.54',\n",
       "   'taxes': [{'id': 39, 'total': '6.54', 'subtotal': '6.54'}],\n",
       "   'meta_data': [],\n",
       "   'sku': 'FD001',\n",
       "   'price': 109,\n",
       "   'parent_name': None}],\n",
       " 'tax_lines': [{'id': 5,\n",
       "   'rate_code': 'US-PA-PA STATE TAX-1',\n",
       "   'rate_id': 39,\n",
       "   'label': 'PA State Tax',\n",
       "   'compound': False,\n",
       "   'tax_total': '6.54',\n",
       "   'shipping_tax_total': '0.00',\n",
       "   'rate_percent': 6,\n",
       "   'meta_data': []}],\n",
       " 'shipping_lines': [{'id': 4,\n",
       "   'method_title': 'Flat rate',\n",
       "   'method_id': 'flat_rate',\n",
       "   'instance_id': '1',\n",
       "   'total': '15.00',\n",
       "   'total_tax': '0.00',\n",
       "   'taxes': [],\n",
       "   'meta_data': [{'id': 30,\n",
       "     'key': 'Items',\n",
       "     'value': 'OneDraw A1C Test System &times; 1',\n",
       "     'display_key': 'Items',\n",
       "     'display_value': 'OneDraw A1C Test System &times; 1'}]}],\n",
       " 'fee_lines': [],\n",
       " 'coupon_lines': [],\n",
       " 'refunds': [],\n",
       " 'payment_url': 'https://www.drawbridgehealth.com/checkout/order-pay/3778/?pay_for_order=true&key=wc_order_odRFDzZf9vMEc',\n",
       " 'date_created_gmt': '2022-06-13T13:02:03',\n",
       " 'date_modified_gmt': '2022-06-13T13:02:08',\n",
       " 'date_completed_gmt': None,\n",
       " 'date_paid_gmt': '2022-06-13T13:02:07',\n",
       " 'currency_symbol': '$',\n",
       " '_links': {'self': [{'href': 'https://www.drawbridgehealth.com/wp-json/wc/v3/orders/3778'}],\n",
       "  'collection': [{'href': 'https://www.drawbridgehealth.com/wp-json/wc/v3/orders'}],\n",
       "  'customer': [{'href': 'https://www.drawbridgehealth.com/wp-json/wc/v3/customers/2'}]}}"
      ]
     },
     "execution_count": 18,
     "metadata": {},
     "output_type": "execute_result"
    }
   ],
   "source": [
    "body"
   ]
  },
  {
   "cell_type": "code",
   "execution_count": null,
   "id": "4bcd42fb",
   "metadata": {},
   "outputs": [],
   "source": [
    "            data=json.dumps({\n",
    "                \"orders\": [\n",
    "                    {\n",
    "                        \"shippingAddress\": {\n",
    "                            \"regionCode\": \"US-NY\",\n",
    "                            \"city\": \"Commack\",\n",
    "                            \"firstName\": \"Jerome\",\n",
    "                            \"postalCode\": \"11725\",\n",
    "                            \"phone\": \"6318975215\",\n",
    "                            \"addressLine1\": \"86 Washingotn Blvd\",\n",
    "                            \"companyName\": \"\",\n",
    "                            \"addressLine2\": \"\",\n",
    "                            \"countryCode\": \"US\",\n",
    "                            \"lastName\": \"Scelza\"\n",
    "                        },\n",
    "                        \"notes\": \"\",\n",
    "                        \"externalId\": \"3890\",\n",
    "                        \"shipmentMethod\": \"TWODAY\",\n",
    "                        \"items\": [\n",
    "                            {\n",
    "                                \"sku\": \"KA001\",\n",
    "                                \"quantity\": 1\n",
    "                            }\n",
    "                        ]\n",
    "                    }\n",
    "                ],\n",
    "                \"defaultPaymentMethod\": \"CREDIT_CARD\"\n",
    "            })\n",
    "    "
   ]
  },
  {
   "cell_type": "code",
   "execution_count": 22,
   "id": "93c3151b",
   "metadata": {},
   "outputs": [
    {
     "data": {
      "text/plain": [
       "{'orders': [{'shippingAddress': {'regionCode': 'US-PA',\n",
       "    'city': 'Havertown',\n",
       "    'firstName': 'Alan',\n",
       "    'lastName': 'McCann',\n",
       "    'postalCode': '19083',\n",
       "    'phone': '9496375327',\n",
       "    'addressLine1': '1256 Leedom Road',\n",
       "    'addressLine2': '',\n",
       "    'companyName': '',\n",
       "    'countryCode': 'US'},\n",
       "   'notes': '',\n",
       "   'externalId': 3778,\n",
       "   'shipmentMethod': 'TWODAY',\n",
       "   'items': [{'sku': 'FD001', 'quantity': 1}]}],\n",
       " 'defaultPaymentMethod': 'CREDIT_CARD'}"
      ]
     },
     "execution_count": 22,
     "metadata": {},
     "output_type": "execute_result"
    }
   ],
   "source": [
    "shipping = body[\"shipping\"]\n",
    "items = [{\"sku\": line_item[\"sku\"], \"quantity\": line_item[\"quantity\"]} for line_item in body['line_items']]\n",
    "order = {\n",
    "    \"orders\": [\n",
    "        {\n",
    "            \"shippingAddress\": {\n",
    "                \"regionCode\": f'US-{shipping[\"state\"]}',\n",
    "                \"city\": shipping[\"city\"],\n",
    "                \"firstName\": shipping[\"first_name\"],\n",
    "                \"lastName\": shipping[\"last_name\"],\n",
    "                \"postalCode\": shipping[\"postcode\"],\n",
    "                \"phone\": shipping[\"phone\"],\n",
    "                \"addressLine1\": shipping[\"address_1\"],\n",
    "                \"addressLine2\": shipping[\"address_2\"],\n",
    "                \"companyName\": shipping[\"company\"],\n",
    "                \"countryCode\": shipping[\"country\"]\n",
    "                \n",
    "            },\n",
    "            \"notes\": \"\",\n",
    "            \"externalId\": body[\"id\"],\n",
    "            \"shipmentMethod\": \"TWODAY\",\n",
    "            \"items\": items\n",
    "        }\n",
    "    ],\n",
    "    \"defaultPaymentMethod\": \"CREDIT_CARD\"\n",
    "}\n",
    "order"
   ]
  },
  {
   "cell_type": "code",
   "execution_count": 26,
   "id": "a07fdaae",
   "metadata": {},
   "outputs": [
    {
     "data": {
      "text/plain": [
       "'{\"orders\": [{\"shippingAddress\": {\"regionCode\": \"US-PA\", \"city\": \"Havertown\", \"firstName\": \"Alan\", \"lastName\": \"McCann\", \"postalCode\": \"19083\", \"phone\": \"9496375327\", \"addressLine1\": \"1256 Leedom Road\", \"addressLine2\": \"\", \"companyName\": \"\", \"countryCode\": \"US\"}, \"notes\": \"\", \"externalId\": 3778, \"shipmentMethod\": \"TWODAY\", \"items\": [{\"sku\": \"FD001\", \"quantity\": 1}]}], \"defaultPaymentMethod\": \"CREDIT_CARD\"}'"
      ]
     },
     "execution_count": 26,
     "metadata": {},
     "output_type": "execute_result"
    }
   ],
   "source": [
    "import json\n",
    "data = json.dumps(order)\n",
    "data"
   ]
  },
  {
   "cell_type": "code",
   "execution_count": null,
   "id": "00e8907e",
   "metadata": {},
   "outputs": [],
   "source": []
  }
 ],
 "metadata": {
  "kernelspec": {
   "display_name": "Python 3 (ipykernel)",
   "language": "python",
   "name": "python3"
  },
  "language_info": {
   "codemirror_mode": {
    "name": "ipython",
    "version": 3
   },
   "file_extension": ".py",
   "mimetype": "text/x-python",
   "name": "python",
   "nbconvert_exporter": "python",
   "pygments_lexer": "ipython3",
   "version": "3.9.7"
  }
 },
 "nbformat": 4,
 "nbformat_minor": 5
}
