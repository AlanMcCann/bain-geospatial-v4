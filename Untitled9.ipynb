{
 "cells": [
  {
   "cell_type": "code",
   "execution_count": 1,
   "id": "22a608ef",
   "metadata": {},
   "outputs": [],
   "source": [
    "import csv\n",
    "import datetime\n",
    "source_data_base_path = \"/Users/alanmccann/Dropbox/bain/bain-uploads/v6_4th_run Brian Stobie\"\n",
    "published_data_base_path = '/Users/alanmccann/Dropbox/bain/mtsds-data'\n",
    "csv_file_path = f'{source_data_base_path}/Market_Mapping_Settings.csv'\n",
    "market_rows = []\n",
    "with open(csv_file_path, encoding='utf-8-sig') as csvfile:\n",
    "    reader = csv.DictReader(csvfile)\n",
    "    for row in reader:\n",
    "        market_rows.append(row)\n",
    "        "
   ]
  },
  {
   "cell_type": "code",
   "execution_count": 13,
   "id": "718c2bfd",
   "metadata": {},
   "outputs": [
    {
     "data": {
      "text/plain": [
       "{'MarketName': 'DallasFortWorthTX',\n",
       " 'Market_Display_Name': 'Dallas Fort Worth, TX',\n",
       " 'StateFips': '',\n",
       " 'CenterLat': '32.775862',\n",
       " 'CenterLong': '-96.796877',\n",
       " 'GeoTypeGroup': '1 - Designated Metro Areas',\n",
       " 'DefaultZoomLevel': '8'}"
      ]
     },
     "execution_count": 13,
     "metadata": {},
     "output_type": "execute_result"
    }
   ],
   "source": [
    "market_rows[86]"
   ]
  },
  {
   "cell_type": "code",
   "execution_count": 18,
   "id": "e6c76d2b",
   "metadata": {},
   "outputs": [
    {
     "data": {
      "text/plain": [
       "{'MarketName': 'Texas',\n",
       " 'Market_Display_Name': 'Texas',\n",
       " 'StateFips': '',\n",
       " 'CenterLat': '31.4757',\n",
       " 'CenterLong': '-99.3312',\n",
       " 'GeoTypeGroup': '2 - States',\n",
       " 'DefaultZoomLevel': '5'}"
      ]
     },
     "execution_count": 18,
     "metadata": {},
     "output_type": "execute_result"
    }
   ],
   "source": [
    "market_rows[424]"
   ]
  },
  {
   "cell_type": "code",
   "execution_count": 21,
   "id": "48763870",
   "metadata": {},
   "outputs": [
    {
     "data": {
      "text/plain": [
       "{'MarketName': 'WestVirginia',\n",
       " 'Market_Display_Name': 'West Virginia',\n",
       " 'StateFips': '',\n",
       " 'CenterLat': '38.6409',\n",
       " 'CenterLong': '-80.6227',\n",
       " 'GeoTypeGroup': '2 - States',\n",
       " 'DefaultZoomLevel': '5'}"
      ]
     },
     "execution_count": 21,
     "metadata": {},
     "output_type": "execute_result"
    }
   ],
   "source": [
    "market_rows[-3]"
   ]
  },
  {
   "cell_type": "code",
   "execution_count": 22,
   "id": "9cc1b717",
   "metadata": {},
   "outputs": [
    {
     "name": "stdout",
     "output_type": "stream",
     "text": [
      "creating tilesets for: dallasfortworthtx\n",
      "2022-12-04 13:17:12.584214\n"
     ]
    },
    {
     "ename": "NameError",
     "evalue": "name 'upload_source' is not defined",
     "output_type": "error",
     "traceback": [
      "\u001b[0;31m---------------------------------------------------------------------------\u001b[0m",
      "\u001b[0;31mNameError\u001b[0m                                 Traceback (most recent call last)",
      "\u001b[0;32m/var/folders/dh/fn0cs6ln6sq0722wd5lcgdcm0000gn/T/ipykernel_53914/3926953684.py\u001b[0m in \u001b[0;36m<module>\u001b[0;34m\u001b[0m\n\u001b[1;32m     19\u001b[0m     \u001b[0mprint\u001b[0m\u001b[0;34m(\u001b[0m\u001b[0mdatetime\u001b[0m\u001b[0;34m.\u001b[0m\u001b[0mdatetime\u001b[0m\u001b[0;34m.\u001b[0m\u001b[0mnow\u001b[0m\u001b[0;34m(\u001b[0m\u001b[0;34m)\u001b[0m\u001b[0;34m)\u001b[0m\u001b[0;34m\u001b[0m\u001b[0;34m\u001b[0m\u001b[0m\n\u001b[1;32m     20\u001b[0m     \u001b[0;32mfor\u001b[0m \u001b[0mstats_type\u001b[0m \u001b[0;32min\u001b[0m \u001b[0mSTATS_TYPES\u001b[0m\u001b[0;34m:\u001b[0m\u001b[0;34m\u001b[0m\u001b[0;34m\u001b[0m\u001b[0m\n\u001b[0;32m---> 21\u001b[0;31m         \u001b[0mupload_source\u001b[0m\u001b[0;34m(\u001b[0m\u001b[0mmarket_file_prefix\u001b[0m\u001b[0;34m,\u001b[0m \u001b[0mstats_type\u001b[0m\u001b[0;34m,\u001b[0m \u001b[0mpublished_data_base_path\u001b[0m\u001b[0;34m)\u001b[0m\u001b[0;34m\u001b[0m\u001b[0;34m\u001b[0m\u001b[0m\n\u001b[0m\u001b[1;32m     22\u001b[0m         \u001b[0mupload_tileset\u001b[0m\u001b[0;34m(\u001b[0m\u001b[0mmarket_file_prefix\u001b[0m\u001b[0;34m,\u001b[0m \u001b[0mstats_type\u001b[0m\u001b[0;34m,\u001b[0m \u001b[0mpublished_data_base_path\u001b[0m\u001b[0;34m)\u001b[0m\u001b[0;34m\u001b[0m\u001b[0;34m\u001b[0m\u001b[0m\n\u001b[1;32m     23\u001b[0m         \u001b[0mupdate_recipe\u001b[0m\u001b[0;34m(\u001b[0m\u001b[0mmarket_file_prefix\u001b[0m\u001b[0;34m,\u001b[0m \u001b[0mstats_type\u001b[0m\u001b[0;34m,\u001b[0m \u001b[0mpublished_data_base_path\u001b[0m\u001b[0;34m)\u001b[0m\u001b[0;34m\u001b[0m\u001b[0;34m\u001b[0m\u001b[0m\n",
      "\u001b[0;31mNameError\u001b[0m: name 'upload_source' is not defined"
     ]
    }
   ],
   "source": [
    "import csv\n",
    "import datetime\n",
    "source_data_base_path = \"/Users/alanmccann/Dropbox/bain/bain-uploads/v6_4th_run Brian Stobie\"\n",
    "published_data_base_path = '/Users/alanmccann/Dropbox/bain/mtsds-data'\n",
    "csv_file_path = f'{source_data_base_path}/Market_Mapping_Settings.csv'\n",
    "market_rows = []\n",
    "with open(csv_file_path, encoding='utf-8-sig') as csvfile:\n",
    "    reader = csv.DictReader(csvfile)\n",
    "    for row in reader:\n",
    "        market_rows.append(row)\n",
    "market_count = 0\n",
    "completed_markets = []\n",
    "# STATS_TYPES = ['Count','Percent','nshft','Labels', 'pshft','growth']\n",
    "STATS_TYPES = [ 'pshft','growth']\n",
    "for market_data in market_rows[86:87]:\n",
    "    market_file_prefix = market_data['MarketName'].lower()\n",
    "    # if market_data['MarketName'] in ['Texas','DallasFortWorth']:\n",
    "    print('creating tilesets for:', market_file_prefix)\n",
    "    print(datetime.datetime.now())\n",
    "    for stats_type in STATS_TYPES:\n",
    "        upload_source(market_file_prefix, stats_type, published_data_base_path)\n",
    "        upload_tileset(market_file_prefix, stats_type, published_data_base_path)\n",
    "        update_recipe(market_file_prefix, stats_type, published_data_base_path)\n",
    "        publish_tileset(market_file_prefix, stats_type, published_data_base_path)"
   ]
  },
  {
   "cell_type": "code",
   "execution_count": null,
   "id": "d7267201",
   "metadata": {},
   "outputs": [],
   "source": []
  }
 ],
 "metadata": {
  "kernelspec": {
   "display_name": "Python 3 (ipykernel)",
   "language": "python",
   "name": "python3"
  },
  "language_info": {
   "codemirror_mode": {
    "name": "ipython",
    "version": 3
   },
   "file_extension": ".py",
   "mimetype": "text/x-python",
   "name": "python",
   "nbconvert_exporter": "python",
   "pygments_lexer": "ipython3",
   "version": "3.9.7"
  }
 },
 "nbformat": 4,
 "nbformat_minor": 5
}
