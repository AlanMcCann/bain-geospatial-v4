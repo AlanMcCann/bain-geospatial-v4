{
 "cells": [
  {
   "cell_type": "code",
   "execution_count": 1,
   "id": "3969a4c5",
   "metadata": {},
   "outputs": [],
   "source": [
    "path=\"/Users/alanmccann/Dropbox/bain/bain-uploads/percent_update Joe (1).json\""
   ]
  },
  {
   "cell_type": "code",
   "execution_count": 2,
   "id": "237e2ba5",
   "metadata": {},
   "outputs": [],
   "source": [
    "import json\n",
    "with open(path) as json_file:\n",
    "    data = json.load(json_file)"
   ]
  },
  {
   "cell_type": "code",
   "execution_count": 3,
   "id": "446eb807",
   "metadata": {},
   "outputs": [
    {
     "data": {
      "text/plain": [
       "dict_keys(['metro_areas_all', 'metro_areas_excl_same_state', 'states'])"
      ]
     },
     "execution_count": 3,
     "metadata": {},
     "output_type": "execute_result"
    }
   ],
   "source": [
    "data.keys()"
   ]
  },
  {
   "cell_type": "code",
   "execution_count": 13,
   "id": "d5358002",
   "metadata": {},
   "outputs": [
    {
     "data": {
      "text/plain": [
       "dict_keys(['Alaska', 'Alabama', 'Arkansas', 'Arizona', 'California', 'Colorado', 'Connecticut', 'DistrictOfColumbia', 'Delaware', 'Florida', 'Georgia', 'Hawaii', 'Iowa', 'Idaho', 'Illinois', 'Indiana', 'Kansas', 'Kentucky', 'Louisiana', 'Massachusetts', 'Maryland', 'Maine', 'Michigan', 'Minnesota', 'Missouri', 'Mississippi', 'Montana', 'NorthCarolina', 'NorthDakota', 'Nebraska', 'NewHampshire', 'NewJersey', 'NewMexico', 'Nevada', 'NewYork', 'Ohio', 'Oklahoma', 'Oregon', 'Pennsylvania', 'RhodeIsland', 'SouthCarolina', 'SouthDakota', 'Tennessee', 'Utah', 'Virginia', 'Vermont', 'Washington', 'Wisconsin', 'WestVirginia', 'Wyoming', 'all_markets', 'states_all', 'largest_25', 'largest_10', 'top_25_list'])"
      ]
     },
     "execution_count": 13,
     "metadata": {},
     "output_type": "execute_result"
    }
   ],
   "source": [
    "data['states']['Texas'].keys()"
   ]
  },
  {
   "cell_type": "code",
   "execution_count": 4,
   "id": "c64bbfdf",
   "metadata": {},
   "outputs": [
    {
     "data": {
      "text/plain": [
       "dict_keys(['AkronOH', 'AlbanyGA', 'AlbuquerqueNM', 'AllentownPA', 'AshevilleNC', 'AtlantaGA', 'AugustaGA', 'AustinTX', 'BakersfieldCA', 'BaltimoreMD', 'BatonRougeLA', 'BirminghamAL', 'BoiseCityID', 'BostonMA', 'BridgeportCT', 'BuffaloNY', 'CapeCoralFL', 'CharlestonWV', 'CharlotteNC', 'ChattanoogaTN', 'ChicagoIL', 'CincinnatiOH', 'ClevelandOH', 'ColoradoSpringsCO', 'ColumbiaSC', 'ColumbusOH', 'DallasFortWorthTX', 'DaytonOH', 'DeltonaFL', 'DenverCO', 'DesMoinesIA', 'DetroitMI', 'DurhamNC', 'ElPasoTX', 'EugeneOR', 'FayettevilleAR', 'FayettevilleNC', 'FresnoCA', 'GainesvilleFL', 'GrandRapidsMI', 'GreensboroNC', 'GreenvilleNC', 'HarrisburgPA', 'HartfordCT', 'HoustonTX', 'HuntsvilleAL', 'IndianapolisIN', 'JacksonMS', 'JacksonvilleFL', 'KansasCityMO', 'KilleenTX', 'KnoxvilleTN', 'LafayetteIN', 'LakelandFL', 'LancasterPA', 'LansingMI', 'LasVegasNV', 'LexingtonKY', 'LittleRockAR', 'LosAngelesCA', 'LouisvilleKY', 'MadisonWI', 'McAllenTX', 'MemphisTN', 'MiamiFL', 'MilwaukeeWI', 'MinneapolisMN', 'ModestoCA', 'MyrtleBeachSC', 'NashvilleTN', 'NewHavenCT', 'NewOrleansLA', 'NewYorkNY', 'NorthPortFL', 'OcalaFL', 'OgdenUT', 'OklahomaCityOK', 'OmahaNE', 'OrlandoFL', 'OxnardCA', 'PalmBayFL', 'PensacolaFL', 'PhiladelphiaPA', 'PhoenixAZ', 'PittsburghPA', 'PortStLucieFL', 'PortlandME', 'PortlandOR', 'ProvidenceRI', 'ProvoUT', 'RaleighNC', 'RenoNV', 'RichmondVA', 'RiversideCA', 'RochesterNY', 'SacramentoCA', 'SaltLakeCityUT', 'SanAntonioTX', 'SanDiegoCA', 'SanFranciscoCA', 'SanJoseCA', 'SantaRosaCA', 'ScrantonPA', 'SeattleWA', 'SpokaneWA', 'SpringfieldMA', 'SpringfieldMO', 'StLouisMO', 'StocktonCA', 'SyracuseNY', 'TallahasseeFL', 'TampaFL', 'ToledoOH', 'TucsonAZ', 'TulsaOK', 'UrbanHonoluluHI', 'VirginiaBeachVA', 'VisaliaCA', 'WashingtonDC', 'WichitaKS', 'WinstonNC', 'WorcesterMA', 'YorkPA', 'YoungstownOH'])"
      ]
     },
     "execution_count": 4,
     "metadata": {},
     "output_type": "execute_result"
    }
   ],
   "source": [
    "data['metro_areas_all'].keys()"
   ]
  },
  {
   "cell_type": "code",
   "execution_count": 5,
   "id": "eb868118",
   "metadata": {},
   "outputs": [
    {
     "data": {
      "text/plain": [
       "dict_keys(['AkronOH', 'AlbanyGA', 'AlbuquerqueNM', 'AllentownPA', 'AshevilleNC', 'AtlantaGA', 'AugustaGA', 'AustinTX', 'BakersfieldCA', 'BaltimoreMD', 'BatonRougeLA', 'BirminghamAL', 'BoiseCityID', 'BostonMA', 'BridgeportCT', 'BuffaloNY', 'CapeCoralFL', 'CharlestonWV', 'CharlotteNC', 'ChattanoogaTN', 'ChicagoIL', 'CincinnatiOH', 'ClevelandOH', 'ColoradoSpringsCO', 'ColumbiaSC', 'ColumbusOH', 'DallasFortWorthTX', 'DaytonOH', 'DeltonaFL', 'DenverCO', 'DesMoinesIA', 'DetroitMI', 'DurhamNC', 'ElPasoTX', 'EugeneOR', 'FayettevilleAR', 'FayettevilleNC', 'FresnoCA', 'GainesvilleFL', 'GrandRapidsMI', 'GreensboroNC', 'GreenvilleNC', 'HarrisburgPA', 'HartfordCT', 'HoustonTX', 'HuntsvilleAL', 'IndianapolisIN', 'JacksonMS', 'JacksonvilleFL', 'KansasCityMO', 'KilleenTX', 'KnoxvilleTN', 'LafayetteIN', 'LakelandFL', 'LancasterPA', 'LansingMI', 'LasVegasNV', 'LexingtonKY', 'LittleRockAR', 'LosAngelesCA', 'LouisvilleKY', 'MadisonWI', 'McAllenTX', 'MemphisTN', 'MiamiFL', 'MilwaukeeWI', 'MinneapolisMN', 'ModestoCA', 'MyrtleBeachSC', 'NashvilleTN', 'NewHavenCT', 'NewOrleansLA', 'NewYorkNY', 'NorthPortFL', 'OcalaFL', 'OgdenUT', 'OklahomaCityOK', 'OmahaNE', 'OrlandoFL', 'OxnardCA', 'PalmBayFL', 'PensacolaFL', 'PhiladelphiaPA', 'PhoenixAZ', 'PittsburghPA', 'PortStLucieFL', 'PortlandME', 'PortlandOR', 'ProvidenceRI', 'ProvoUT', 'RaleighNC', 'RenoNV', 'RichmondVA', 'RiversideCA', 'RochesterNY', 'SacramentoCA', 'SaltLakeCityUT', 'SanAntonioTX', 'SanDiegoCA', 'SanFranciscoCA', 'SanJoseCA', 'SantaRosaCA', 'ScrantonPA', 'SeattleWA', 'SpokaneWA', 'SpringfieldMA', 'SpringfieldMO', 'StLouisMO', 'StocktonCA', 'SyracuseNY', 'TallahasseeFL', 'TampaFL', 'ToledoOH', 'TucsonAZ', 'TulsaOK', 'UrbanHonoluluHI', 'VirginiaBeachVA', 'VisaliaCA', 'WashingtonDC', 'WichitaKS', 'WinstonNC', 'WorcesterMA', 'YorkPA', 'YoungstownOH'])"
      ]
     },
     "execution_count": 5,
     "metadata": {},
     "output_type": "execute_result"
    }
   ],
   "source": [
    "data['metro_areas_excl_same_state'].keys()"
   ]
  },
  {
   "cell_type": "code",
   "execution_count": 8,
   "id": "3ca3ca8d",
   "metadata": {},
   "outputs": [
    {
     "data": {
      "text/plain": [
       "129"
      ]
     },
     "execution_count": 8,
     "metadata": {},
     "output_type": "execute_result"
    }
   ],
   "source": [
    "len(data['metro_areas_all']['DallasFortWorthTX'].keys())"
   ]
  },
  {
   "cell_type": "code",
   "execution_count": 9,
   "id": "04e3415f",
   "metadata": {},
   "outputs": [
    {
     "data": {
      "text/plain": [
       "dict_keys(['AkronOH', 'AlbanyGA', 'AlbuquerqueNM', 'AllentownPA', 'AshevilleNC', 'AtlantaGA', 'AugustaGA', 'AustinTX', 'BakersfieldCA', 'BaltimoreMD', 'BatonRougeLA', 'BirminghamAL', 'BoiseCityID', 'BostonMA', 'BridgeportCT', 'BuffaloNY', 'CapeCoralFL', 'CharlestonWV', 'CharlotteNC', 'ChattanoogaTN', 'ChicagoIL', 'CincinnatiOH', 'ClevelandOH', 'ColoradoSpringsCO', 'ColumbiaSC', 'ColumbusOH', 'DaytonOH', 'DeltonaFL', 'DenverCO', 'DesMoinesIA', 'DetroitMI', 'DurhamNC', 'ElPasoTX', 'EugeneOR', 'FayettevilleAR', 'FayettevilleNC', 'FresnoCA', 'GainesvilleFL', 'GrandRapidsMI', 'GreensboroNC', 'GreenvilleNC', 'HarrisburgPA', 'HartfordCT', 'HoustonTX', 'HuntsvilleAL', 'IndianapolisIN', 'JacksonMS', 'JacksonvilleFL', 'KansasCityMO', 'KilleenTX', 'KnoxvilleTN', 'LafayetteIN', 'LakelandFL', 'LancasterPA', 'LansingMI', 'LasVegasNV', 'LexingtonKY', 'LittleRockAR', 'LosAngelesCA', 'LouisvilleKY', 'MadisonWI', 'McAllenTX', 'MemphisTN', 'MiamiFL', 'MilwaukeeWI', 'MinneapolisMN', 'ModestoCA', 'MyrtleBeachSC', 'NashvilleTN', 'NewHavenCT', 'NewOrleansLA', 'NewYorkNY', 'NorthPortFL', 'OcalaFL', 'OgdenUT', 'OklahomaCityOK', 'OmahaNE', 'OrlandoFL', 'OxnardCA', 'PalmBayFL', 'PensacolaFL', 'PhiladelphiaPA', 'PhoenixAZ', 'PittsburghPA', 'PortStLucieFL', 'PortlandME', 'PortlandOR', 'ProvidenceRI', 'ProvoUT', 'RaleighNC', 'RenoNV', 'RichmondVA', 'RiversideCA', 'RochesterNY', 'SacramentoCA', 'SaltLakeCityUT', 'SanAntonioTX', 'SanDiegoCA', 'SanFranciscoCA', 'SanJoseCA', 'SantaRosaCA', 'ScrantonPA', 'SeattleWA', 'SpokaneWA', 'SpringfieldMA', 'SpringfieldMO', 'StLouisMO', 'StocktonCA', 'SyracuseNY', 'TallahasseeFL', 'TampaFL', 'ToledoOH', 'TucsonAZ', 'TulsaOK', 'UrbanHonoluluHI', 'VirginiaBeachVA', 'VisaliaCA', 'WashingtonDC', 'WichitaKS', 'WinstonNC', 'WorcesterMA', 'YorkPA', 'YoungstownOH', 'all_other_markets', 'all_markets', 'top_120', 'top_50', 'top_20', 'top_25_list'])"
      ]
     },
     "execution_count": 9,
     "metadata": {},
     "output_type": "execute_result"
    }
   ],
   "source": [
    "data['metro_areas_all']['DallasFortWorthTX'].keys()"
   ]
  },
  {
   "cell_type": "code",
   "execution_count": 10,
   "id": "19ea3bc7",
   "metadata": {},
   "outputs": [
    {
     "data": {
      "text/plain": [
       "dict_keys(['AkronOH', 'AlbanyGA', 'AlbuquerqueNM', 'AllentownPA', 'AshevilleNC', 'AtlantaGA', 'AugustaGA', 'BakersfieldCA', 'BaltimoreMD', 'BatonRougeLA', 'BirminghamAL', 'BoiseCityID', 'BostonMA', 'BridgeportCT', 'BuffaloNY', 'CapeCoralFL', 'CharlestonWV', 'CharlotteNC', 'ChattanoogaTN', 'ChicagoIL', 'CincinnatiOH', 'ClevelandOH', 'ColoradoSpringsCO', 'ColumbiaSC', 'ColumbusOH', 'DaytonOH', 'DeltonaFL', 'DenverCO', 'DesMoinesIA', 'DetroitMI', 'DurhamNC', 'EugeneOR', 'FayettevilleAR', 'FayettevilleNC', 'FresnoCA', 'GainesvilleFL', 'GrandRapidsMI', 'GreensboroNC', 'GreenvilleNC', 'HarrisburgPA', 'HartfordCT', 'HuntsvilleAL', 'IndianapolisIN', 'JacksonMS', 'JacksonvilleFL', 'KansasCityMO', 'KnoxvilleTN', 'LafayetteIN', 'LakelandFL', 'LancasterPA', 'LansingMI', 'LasVegasNV', 'LexingtonKY', 'LittleRockAR', 'LosAngelesCA', 'LouisvilleKY', 'MadisonWI', 'MemphisTN', 'MiamiFL', 'MilwaukeeWI', 'MinneapolisMN', 'ModestoCA', 'MyrtleBeachSC', 'NashvilleTN', 'NewHavenCT', 'NewOrleansLA', 'NewYorkNY', 'NorthPortFL', 'OcalaFL', 'OgdenUT', 'OklahomaCityOK', 'OmahaNE', 'OrlandoFL', 'OxnardCA', 'PalmBayFL', 'PensacolaFL', 'PhiladelphiaPA', 'PhoenixAZ', 'PittsburghPA', 'PortStLucieFL', 'PortlandME', 'PortlandOR', 'ProvidenceRI', 'ProvoUT', 'RaleighNC', 'RenoNV', 'RichmondVA', 'RiversideCA', 'RochesterNY', 'SacramentoCA', 'SaltLakeCityUT', 'SanDiegoCA', 'SanFranciscoCA', 'SanJoseCA', 'SantaRosaCA', 'ScrantonPA', 'SeattleWA', 'SpokaneWA', 'SpringfieldMA', 'SpringfieldMO', 'StLouisMO', 'StocktonCA', 'SyracuseNY', 'TallahasseeFL', 'TampaFL', 'ToledoOH', 'TucsonAZ', 'TulsaOK', 'UrbanHonoluluHI', 'VirginiaBeachVA', 'VisaliaCA', 'WashingtonDC', 'WichitaKS', 'WinstonNC', 'WorcesterMA', 'YorkPA', 'YoungstownOH', 'all_other_markets_excl_same_state', 'all_markets_excl_same_state', 'top_120', 'top_50', 'top_20', 'top_25_list'])"
      ]
     },
     "execution_count": 10,
     "metadata": {},
     "output_type": "execute_result"
    }
   ],
   "source": [
    "data['metro_areas_excl_same_state']['DallasFortWorthTX'].keys()"
   ]
  },
  {
   "cell_type": "code",
   "execution_count": 11,
   "id": "ff515b0c",
   "metadata": {},
   "outputs": [
    {
     "data": {
      "text/plain": [
       "123"
      ]
     },
     "execution_count": 11,
     "metadata": {},
     "output_type": "execute_result"
    }
   ],
   "source": [
    "len(data['metro_areas_excl_same_state']['DallasFortWorthTX'].keys())"
   ]
  },
  {
   "cell_type": "code",
   "execution_count": 22,
   "id": "27091e49",
   "metadata": {},
   "outputs": [
    {
     "data": {
      "text/plain": [
       "[0.016,\n",
       " 0.024,\n",
       " 0.011,\n",
       " 0.016,\n",
       " 0.018,\n",
       " 0.029,\n",
       " 0.011,\n",
       " 0.018,\n",
       " 0.018,\n",
       " 0.028,\n",
       " 0.012,\n",
       " 0.017,\n",
       " 0.01,\n",
       " 0.014,\n",
       " 0.007,\n",
       " 0.009,\n",
       " 0.018,\n",
       " 0.017,\n",
       " 0.025,\n",
       " 0.014,\n",
       " 0.018,\n",
       " 0.017,\n",
       " 0.024,\n",
       " 0.013,\n",
       " 0.02,\n",
       " 0.018,\n",
       " 0.027,\n",
       " 0.016,\n",
       " 0.018,\n",
       " 0.018,\n",
       " 0.023,\n",
       " 0.011,\n",
       " [1,\n",
       "  1,\n",
       "  1,\n",
       "  1,\n",
       "  1,\n",
       "  1,\n",
       "  1,\n",
       "  1,\n",
       "  1,\n",
       "  1,\n",
       "  1,\n",
       "  1,\n",
       "  1,\n",
       "  1,\n",
       "  1,\n",
       "  1,\n",
       "  1,\n",
       "  1,\n",
       "  1,\n",
       "  1,\n",
       "  1,\n",
       "  1,\n",
       "  1,\n",
       "  1,\n",
       "  1,\n",
       "  1,\n",
       "  1,\n",
       "  1,\n",
       "  1,\n",
       "  1,\n",
       "  1,\n",
       "  1],\n",
       " [1,\n",
       "  1,\n",
       "  1,\n",
       "  1,\n",
       "  1,\n",
       "  1,\n",
       "  1,\n",
       "  1,\n",
       "  1,\n",
       "  1,\n",
       "  1,\n",
       "  1,\n",
       "  1,\n",
       "  1,\n",
       "  1,\n",
       "  1,\n",
       "  1,\n",
       "  1,\n",
       "  1,\n",
       "  1,\n",
       "  1,\n",
       "  1,\n",
       "  1,\n",
       "  1,\n",
       "  1,\n",
       "  1,\n",
       "  1,\n",
       "  1,\n",
       "  1,\n",
       "  1,\n",
       "  1,\n",
       "  1],\n",
       " [1,\n",
       "  1,\n",
       "  0,\n",
       "  1,\n",
       "  1,\n",
       "  1,\n",
       "  0,\n",
       "  1,\n",
       "  1,\n",
       "  1,\n",
       "  0,\n",
       "  1,\n",
       "  0,\n",
       "  1,\n",
       "  0,\n",
       "  0,\n",
       "  1,\n",
       "  1,\n",
       "  1,\n",
       "  1,\n",
       "  1,\n",
       "  1,\n",
       "  1,\n",
       "  1,\n",
       "  1,\n",
       "  1,\n",
       "  1,\n",
       "  1,\n",
       "  1,\n",
       "  1,\n",
       "  1,\n",
       "  1]]"
      ]
     },
     "execution_count": 22,
     "metadata": {},
     "output_type": "execute_result"
    }
   ],
   "source": [
    "data['metro_areas_all']['SanAntonioTX']['KilleenTX']"
   ]
  },
  {
   "cell_type": "code",
   "execution_count": null,
   "id": "172a6be7",
   "metadata": {},
   "outputs": [],
   "source": []
  }
 ],
 "metadata": {
  "kernelspec": {
   "display_name": "Python 3 (ipykernel)",
   "language": "python",
   "name": "python3"
  },
  "language_info": {
   "codemirror_mode": {
    "name": "ipython",
    "version": 3
   },
   "file_extension": ".py",
   "mimetype": "text/x-python",
   "name": "python",
   "nbconvert_exporter": "python",
   "pygments_lexer": "ipython3",
   "version": "3.9.7"
  }
 },
 "nbformat": 4,
 "nbformat_minor": 5
}
